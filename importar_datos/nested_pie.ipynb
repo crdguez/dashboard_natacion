{
 "cells": [
  {
   "cell_type": "code",
   "execution_count": 5,
   "metadata": {},
   "outputs": [],
   "source": [
    "%matplotlib inline"
   ]
  },
  {
   "cell_type": "markdown",
   "metadata": {},
   "source": [
    "\n",
    "# Nested pie charts\n",
    "\n",
    "The following examples show two ways to build a nested pie chart\n",
    "in Matplotlib. Such charts are often referred to as donut charts.\n"
   ]
  },
  {
   "cell_type": "code",
   "execution_count": 4,
   "metadata": {},
   "outputs": [],
   "source": [
    "import matplotlib.pyplot as plt\n",
    "import numpy as np"
   ]
  },
  {
   "cell_type": "markdown",
   "metadata": {},
   "source": [
    "The most straightforward way to build a pie chart is to use the\n",
    "`~matplotlib.axes.Axes.pie` method.\n",
    "\n",
    "In this case, pie takes values corresponding to counts in a group.\n",
    "We'll first generate some fake data, corresponding to three groups.\n",
    "In the inner circle, we'll treat each number as belonging to its\n",
    "own group. In the outer circle, we'll plot them as members of their\n",
    "original 3 groups.\n",
    "\n",
    "The effect of the donut shape is achieved by setting a ``width`` to\n",
    "the pie's wedges through the *wedgeprops* argument.\n",
    "\n"
   ]
  },
  {
   "cell_type": "code",
   "execution_count": 43,
   "metadata": {},
   "outputs": [
    {
     "data": {
      "image/png": "[encoded data removed]",
      "text/plain": [
       "<Figure size 432x288 with 1 Axes>"
      ]
     },
     "metadata": {},
     "output_type": "display_data"
    }
   ],
   "source": [
    "fig, ax = plt.subplots()\n",
    "\n",
    "size = 0.5\n",
    "vals = np.array([[60., 32.], [37., 40.], [29., 10.]])\n",
    "\n",
    "# cmap = plt.colormaps[\"tab20c\"]\n",
    "# outer_colors = cmap(np.arange(3)*4)\n",
    "# inner_colors = cmap([1, 2, 5, 6, 9, 10])\n",
    "\n",
    "# ax.pie(vals.sum(axis=1), radius=1, colors=outer_colors,\n",
    "#        wedgeprops=dict(width=size, edgecolor='w'))\n",
    "\n",
    "ax.pie(vals.sum(axis=1), radius=1,\n",
    "       wedgeprops=dict(width=size, edgecolor='w'))\n",
    "\n",
    "# ax.pie(vals.flatten(), radius=1-size, colors=inner_colors,\n",
    "#        wedgeprops=dict(width=size, edgecolor='w'))\n",
    "\n",
    "ax.pie(vals.flatten(), radius=1-size,\n",
    "       wedgeprops=dict(width=size, edgecolor='w'))\n",
    "\n",
    "\n",
    "ax.set(aspect=\"equal\", title='Pie plot with `ax.pie`')\n",
    "plt.show()"
   ]
  },
  {
   "cell_type": "code",
   "execution_count": 41,
   "metadata": {},
   "outputs": [
    {
     "data": {
      "text/plain": [
       "(array([[60., 32.],\n",
       "        [37., 40.],\n",
       "        [29., 10.]]),\n",
       " array([92., 77., 39.]))"
      ]
     },
     "execution_count": 41,
     "metadata": {},
     "output_type": "execute_result"
    }
   ],
   "source": [
    "vals,vals.sum(axis=1)"
   ]
  },
  {
   "cell_type": "code",
   "execution_count": 42,
   "metadata": {},
   "outputs": [
    {
     "data": {
      "text/plain": [
       "{'width': 0.3, 'edgecolor': 'w'}"
      ]
     },
     "execution_count": 42,
     "metadata": {},
     "output_type": "execute_result"
    }
   ],
   "source": [
    "dict(width=size, edgecolor='w')"
   ]
  },
  {
   "cell_type": "code",
   "execution_count": 33,
   "metadata": {},
   "outputs": [
    {
     "data": {
      "text/plain": [
       "array([0, 4, 8])"
      ]
     },
     "execution_count": 33,
     "metadata": {},
     "output_type": "execute_result"
    }
   ],
   "source": [
    "np.arange(3)*4"
   ]
  },
  {
   "cell_type": "markdown",
   "metadata": {},
   "source": [
    "However, you can accomplish the same output by using a bar plot on\n",
    "axes with a polar coordinate system. This may give more flexibility on\n",
    "the exact design of the plot.\n",
    "\n",
    "In this case, we need to map x-values of the bar chart onto radians of\n",
    "a circle. The cumulative sum of the values are used as the edges\n",
    "of the bars.\n",
    "\n"
   ]
  },
  {
   "cell_type": "code",
   "execution_count": null,
   "metadata": {},
   "outputs": [],
   "source": [
    "fig, ax = plt.subplots(subplot_kw=dict(projection=\"polar\"))\n",
    "\n",
    "size = 0.3\n",
    "vals = np.array([[60., 32.], [37., 40.], [29., 10.]])\n",
    "# Normalize vals to 2 pi\n",
    "valsnorm = vals/np.sum(vals)*2*np.pi\n",
    "# Obtain the ordinates of the bar edges\n",
    "valsleft = np.cumsum(np.append(0, valsnorm.flatten()[:-1])).reshape(vals.shape)\n",
    "\n",
    "cmap = plt.colormaps[\"tab20c\"]\n",
    "outer_colors = cmap(np.arange(3)*4)\n",
    "inner_colors = cmap([1, 2, 5, 6, 9, 10])\n",
    "\n",
    "ax.bar(x=valsleft[:, 0],\n",
    "       width=valsnorm.sum(axis=1), bottom=1-size, height=size,\n",
    "       color=outer_colors, edgecolor='w', linewidth=1, align=\"edge\")\n",
    "\n",
    "ax.bar(x=valsleft.flatten(),\n",
    "       width=valsnorm.flatten(), bottom=1-2*size, height=size,\n",
    "       color=inner_colors, edgecolor='w', linewidth=1, align=\"edge\")\n",
    "\n",
    "ax.set(title=\"Pie plot with `ax.bar` and polar coordinates\")\n",
    "ax.set_axis_off()\n",
    "plt.show()"
   ]
  },
  {
   "cell_type": "markdown",
   "metadata": {},
   "source": [
    ".. admonition:: References\n",
    "\n",
    "   The use of the following functions, methods, classes and modules is shown\n",
    "   in this example:\n",
    "\n",
    "   - `matplotlib.axes.Axes.pie` / `matplotlib.pyplot.pie`\n",
    "   - `matplotlib.axes.Axes.bar` / `matplotlib.pyplot.bar`\n",
    "   - `matplotlib.projections.polar`\n",
    "   - ``Axes.set`` (`matplotlib.artist.Artist.set`)\n",
    "   - `matplotlib.axes.Axes.set_axis_off`\n",
    "\n"
   ]
  },
  {
   "cell_type": "code",
   "execution_count": 39,
   "metadata": {},
   "outputs": [
    {
     "ename": "NameError",
     "evalue": "name 'mpl' is not defined",
     "output_type": "error",
     "traceback": [
      "\u001b[0;31m---------------------------------------------------------------------------\u001b[0m",
      "\u001b[0;31mNameError\u001b[0m                                 Traceback (most recent call last)",
      "\u001b[0;32m<ipython-input-39-8a40e1593574>\u001b[0m in \u001b[0;36m<module>\u001b[0;34m\u001b[0m\n\u001b[0;32m----> 1\u001b[0;31m \u001b[0mmpl\u001b[0m\u001b[0;34m.\u001b[0m\u001b[0mrcParams\u001b[0m\u001b[0;34m.\u001b[0m\u001b[0mupdate\u001b[0m\u001b[0;34m(\u001b[0m\u001b[0;34m{\u001b[0m\u001b[0;34m'font.size'\u001b[0m\u001b[0;34m:\u001b[0m \u001b[0;36m14\u001b[0m\u001b[0;34m}\u001b[0m\u001b[0;34m)\u001b[0m\u001b[0;34m\u001b[0m\u001b[0;34m\u001b[0m\u001b[0m\n\u001b[0m\u001b[1;32m      2\u001b[0m \u001b[0;34m\u001b[0m\u001b[0m\n\u001b[1;32m      3\u001b[0m \u001b[0;31m# Indices to step through colormap.\u001b[0m\u001b[0;34m\u001b[0m\u001b[0;34m\u001b[0m\u001b[0;34m\u001b[0m\u001b[0m\n\u001b[1;32m      4\u001b[0m \u001b[0mx\u001b[0m \u001b[0;34m=\u001b[0m \u001b[0mnp\u001b[0m\u001b[0;34m.\u001b[0m\u001b[0mlinspace\u001b[0m\u001b[0;34m(\u001b[0m\u001b[0;36m0.0\u001b[0m\u001b[0;34m,\u001b[0m \u001b[0;36m1.0\u001b[0m\u001b[0;34m,\u001b[0m \u001b[0;36m100\u001b[0m\u001b[0;34m)\u001b[0m\u001b[0;34m\u001b[0m\u001b[0;34m\u001b[0m\u001b[0m\n\u001b[1;32m      5\u001b[0m \u001b[0;34m\u001b[0m\u001b[0m\n",
      "\u001b[0;31mNameError\u001b[0m: name 'mpl' is not defined"
     ]
    }
   ],
   "source": [
    "mpl.rcParams.update({'font.size': 14})\n",
    "\n",
    "# Indices to step through colormap.\n",
    "x = np.linspace(0.0, 1.0, 100)\n",
    "\n",
    "gradient = np.linspace(0, 1, 256)\n",
    "gradient = np.vstack((gradient, gradient))\n",
    "\n",
    "\n",
    "def plot_color_gradients(cmap_category, cmap_list):\n",
    "    fig, axs = plt.subplots(nrows=len(cmap_list), ncols=2)\n",
    "    fig.subplots_adjust(top=0.95, bottom=0.01, left=0.2, right=0.99,\n",
    "                        wspace=0.05)\n",
    "    fig.suptitle(cmap_category + ' colormaps', fontsize=14, y=1.0, x=0.6)\n",
    "\n",
    "    for ax, name in zip(axs, cmap_list):\n",
    "\n",
    "        # Get RGB values for colormap.\n",
    "        rgb = cm.get_cmap(plt.get_cmap(name))(x)[np.newaxis, :, :3]\n",
    "\n",
    "        # Get colormap in CAM02-UCS colorspace. We want the lightness.\n",
    "        lab = cspace_converter(\"sRGB1\", \"CAM02-UCS\")(rgb)\n",
    "        L = lab[0, :, 0]\n",
    "        L = np.float32(np.vstack((L, L, L)))\n",
    "\n",
    "        ax[0].imshow(gradient, aspect='auto', cmap=plt.get_cmap(name))\n",
    "        ax[1].imshow(L, aspect='auto', cmap='binary_r', vmin=0., vmax=100.)\n",
    "        pos = list(ax[0].get_position().bounds)\n",
    "        x_text = pos[0] - 0.01\n",
    "        y_text = pos[1] + pos[3]/2.\n",
    "        fig.text(x_text, y_text, name, va='center', ha='right', fontsize=10)\n",
    "\n",
    "    # Turn off *all* ticks & spines, not just the ones with colormaps.\n",
    "    for ax in axs.flat:\n",
    "        ax.set_axis_off()\n",
    "\n",
    "    plt.show()\n",
    "\n",
    "\n",
    "for cmap_category, cmap_list in cmaps.items():\n",
    "\n",
    "    plot_color_gradients(cmap_category, cmap_list)"
   ]
  }
 ],
 "metadata": {
  "kernelspec": {
   "display_name": "Python 3",
   "language": "python",
   "name": "python3"
  },
  "language_info": {
   "codemirror_mode": {
    "name": "ipython",
    "version": 3
   },
   "file_extension": ".py",
   "mimetype": "text/x-python",
   "name": "python",
   "nbconvert_exporter": "python",
   "pygments_lexer": "ipython3",
   "version": "3.6.13"
  }
 },
 "nbformat": 4,
 "nbformat_minor": 1
}
