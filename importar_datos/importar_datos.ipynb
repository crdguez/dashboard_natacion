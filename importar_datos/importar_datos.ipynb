{
 "cells": [
  {
   "cell_type": "markdown",
   "id": "c00dd61d",
   "metadata": {},
   "source": [
    "Importamos las librerías:"
   ]
  },
  {
   "cell_type": "code",
   "execution_count": 1,
   "id": "6a048b40",
   "metadata": {},
   "outputs": [],
   "source": [
    "#Importamos librerias\n",
    "\n",
    "import camelot\n",
    "import pandas as pd\n",
    "import datetime\n",
    "from funciones import tabla_a_datos, campos_calculados\n",
    "import glob"
   ]
  },
  {
   "cell_type": "markdown",
   "id": "abc2f2e6",
   "metadata": {},
   "source": [
    "Con *camelot* leemos el pdf que le digamos y extraemos las tablas en bruto:"
   ]
  },
  {
   "cell_type": "code",
   "execution_count": 2,
   "id": "c8315fa3",
   "metadata": {},
   "outputs": [
    {
     "data": {
      "text/plain": [
       "15"
      ]
     },
     "execution_count": 2,
     "metadata": {},
     "output_type": "execute_result"
    }
   ],
   "source": [
    "## Datos a importar\n",
    "\n",
    "file = 'NATACION_BENJAMIN_1_RESULTADOS_2122.pdf'\n",
    "# tablas = camelot.read_pdf(file, pages='all', flavor='stream', split_text=' ')\n",
    "tablas = camelot.read_pdf(file, pages='all', flavor='stream', split_text='\\n')\n",
    "tablas.n"
   ]
  },
  {
   "cell_type": "markdown",
   "id": "9970cef0",
   "metadata": {},
   "source": [
    "Modificamos las tablas para que tengan el formato que nos interese:"
   ]
  },
  {
   "cell_type": "code",
   "execution_count": 3,
   "id": "84d1e93d",
   "metadata": {},
   "outputs": [],
   "source": [
    "# Liga Benjamin\n",
    "\n",
    "competicion = 'Benjamín, jornada 1'\n",
    "lugar = 'C.N. Helios'\n",
    "fecha = datetime.datetime(2021,11,20)\n",
    "\n",
    "\n",
    "# Modifico tabla 4, que hay un error en ella\n",
    "df4=tablas[4].df.copy()\n",
    "df4[1][3]=df4[1][3]+'a'\n",
    "df4[2][3]=df4[2][3].split('\\n')[1]\n",
    "\n",
    "\n",
    "lista_df=[\n",
    "tabla_a_datos(tablas[0].df, fila_datos = 4, fecha=fecha, prueba='50m Espalda', m_f='M', tipo=1, competicion=competicion, lugar= lugar),\n",
    "tabla_a_datos(tablas[1].df, fila_datos = 1, fecha=fecha, prueba='100m Espalda', m_f='M', tipo=2, competicion=competicion, lugar= lugar),\n",
    "tabla_a_datos(tablas[2].df, fila_datos = 2, fecha=fecha, prueba='100m Espalda', m_f='M', tipo=2, competicion=competicion, lugar= lugar),\n",
    "tabla_a_datos(tablas[3].df, fila_datos = 3, fecha=fecha, prueba='50m Espalda', m_f='F', tipo=1, competicion=competicion, lugar= lugar),\n",
    "tabla_a_datos(df4, fila_datos = 3, fecha=fecha, prueba='50m Espalda', m_f='F', tipo=1, competicion=competicion, lugar= lugar),\n",
    "# tabla_a_datos(tablas[5].df, fila_datos = 4, fecha=fecha, prueba='100m Espalda', m_f='F', tipo=3),\n",
    "# tabla_a_datos(tablas[6].df, fila_datos = 2, fecha=fecha, prueba='100m Espalda', m_f='F', tipo=3),\n",
    "tabla_a_datos(tablas[5].df, fila_datos = 4, fecha=fecha, prueba='100m Espalda', m_f='F', tipo=1, competicion=competicion, lugar= lugar),\n",
    "tabla_a_datos(tablas[6].df, fila_datos = 2, fecha=fecha, prueba='100m Espalda', m_f='F', tipo=1, competicion=competicion, lugar= lugar),\n",
    "tabla_a_datos(tablas[7].df, fila_datos = 4, fecha=fecha, prueba='50m Libre', m_f='M', tipo=1, competicion=competicion, lugar= lugar),\n",
    "tabla_a_datos(tablas[8].df, fila_datos = 4, fecha=fecha, prueba='100m Libre', m_f='M', tipo=2, competicion=competicion, lugar= lugar),\n",
    "# tabla_a_datos(tablas[10].df, fila_datos = 2, fecha=fecha, prueba='100m Libre', m_f='M', tipo=3),\n",
    "tabla_a_datos(tablas[10].df, fila_datos = 2, fecha=fecha, prueba='100m Libre', m_f='M', tipo=1, competicion=competicion, lugar= lugar),\n",
    "tabla_a_datos(tablas[11].df[range(6)], fila_datos = 4, fecha=fecha, prueba='50m Libre', m_f='F', tipo=1, competicion=competicion, lugar= lugar),\n",
    "# tabla_a_datos(tablas[12].df, fila_datos = 4, fecha=fecha, prueba='100m Libre', m_f='F', tipo=3),\n",
    "tabla_a_datos(tablas[12].df, fila_datos = 4, fecha=fecha, prueba='100m Libre', m_f='F', tipo=1, competicion=competicion, lugar= lugar),\n",
    "tabla_a_datos(pd.DataFrame({0:['24.'],1:['ROMERO LAFUENTE, Paula'],2:[12],3:['P. San Agustin']\n",
    "                  , 4:['2:14.80'], 5:['51']}), fila_datos = 0, fecha=fecha, prueba='100m Libre', m_f='F', tipo=1, competicion=competicion, lugar= lugar),\n",
    "\n",
    "]\n",
    "\n",
    "# for d in lista_df :\n",
    "#     display(d)\n",
    "    \n",
    "    \n",
    "campos_calculados(pd.concat(lista_df)).to_csv('competicion_'+competicion+'.csv', index=False)"
   ]
  },
  {
   "cell_type": "markdown",
   "id": "4fa6644a",
   "metadata": {},
   "source": [
    "Hacemos un resumen de los datos contando el número de nadadores por club:"
   ]
  },
  {
   "cell_type": "code",
   "execution_count": 4,
   "id": "5e7b4fcc",
   "metadata": {},
   "outputs": [
    {
     "data": {
      "text/html": [
       "<div>\n",
       "<style scoped>\n",
       "    .dataframe tbody tr th:only-of-type {\n",
       "        vertical-align: middle;\n",
       "    }\n",
       "\n",
       "    .dataframe tbody tr th {\n",
       "        vertical-align: top;\n",
       "    }\n",
       "\n",
       "    .dataframe thead tr th {\n",
       "        text-align: left;\n",
       "    }\n",
       "\n",
       "    .dataframe thead tr:last-of-type th {\n",
       "        text-align: right;\n",
       "    }\n",
       "</style>\n",
       "<table border=\"1\" class=\"dataframe\">\n",
       "  <thead>\n",
       "    <tr>\n",
       "      <th>M_F</th>\n",
       "      <th colspan=\"4\" halign=\"left\">F</th>\n",
       "      <th colspan=\"4\" halign=\"left\">M</th>\n",
       "    </tr>\n",
       "    <tr>\n",
       "      <th>Anyo_nac</th>\n",
       "      <th>10</th>\n",
       "      <th>11</th>\n",
       "      <th>12</th>\n",
       "      <th>13</th>\n",
       "      <th>10</th>\n",
       "      <th>11</th>\n",
       "      <th>12</th>\n",
       "      <th>13</th>\n",
       "    </tr>\n",
       "    <tr>\n",
       "      <th>Club</th>\n",
       "      <th></th>\n",
       "      <th></th>\n",
       "      <th></th>\n",
       "      <th></th>\n",
       "      <th></th>\n",
       "      <th></th>\n",
       "      <th></th>\n",
       "      <th></th>\n",
       "    </tr>\n",
       "  </thead>\n",
       "  <tbody>\n",
       "    <tr>\n",
       "      <th>C.N. Helios</th>\n",
       "      <td>0</td>\n",
       "      <td>0</td>\n",
       "      <td>0</td>\n",
       "      <td>4</td>\n",
       "      <td>6</td>\n",
       "      <td>7</td>\n",
       "      <td>0</td>\n",
       "      <td>0</td>\n",
       "    </tr>\n",
       "    <tr>\n",
       "      <th>C.N. Iz Cuarte</th>\n",
       "      <td>0</td>\n",
       "      <td>0</td>\n",
       "      <td>0</td>\n",
       "      <td>0</td>\n",
       "      <td>1</td>\n",
       "      <td>0</td>\n",
       "      <td>0</td>\n",
       "      <td>0</td>\n",
       "    </tr>\n",
       "    <tr>\n",
       "      <th>C.N. Teruel</th>\n",
       "      <td>0</td>\n",
       "      <td>0</td>\n",
       "      <td>0</td>\n",
       "      <td>0</td>\n",
       "      <td>1</td>\n",
       "      <td>0</td>\n",
       "      <td>0</td>\n",
       "      <td>0</td>\n",
       "    </tr>\n",
       "    <tr>\n",
       "      <th>E.M. El Olivar</th>\n",
       "      <td>0</td>\n",
       "      <td>0</td>\n",
       "      <td>11</td>\n",
       "      <td>6</td>\n",
       "      <td>8</td>\n",
       "      <td>7</td>\n",
       "      <td>0</td>\n",
       "      <td>0</td>\n",
       "    </tr>\n",
       "    <tr>\n",
       "      <th>H2ogo C.N.</th>\n",
       "      <td>0</td>\n",
       "      <td>0</td>\n",
       "      <td>0</td>\n",
       "      <td>2</td>\n",
       "      <td>1</td>\n",
       "      <td>3</td>\n",
       "      <td>0</td>\n",
       "      <td>0</td>\n",
       "    </tr>\n",
       "    <tr>\n",
       "      <th>P. San Agustin</th>\n",
       "      <td>0</td>\n",
       "      <td>0</td>\n",
       "      <td>8</td>\n",
       "      <td>2</td>\n",
       "      <td>4</td>\n",
       "      <td>1</td>\n",
       "      <td>0</td>\n",
       "      <td>0</td>\n",
       "    </tr>\n",
       "    <tr>\n",
       "      <th>Stadium Casablanca</th>\n",
       "      <td>0</td>\n",
       "      <td>0</td>\n",
       "      <td>2</td>\n",
       "      <td>0</td>\n",
       "      <td>2</td>\n",
       "      <td>2</td>\n",
       "      <td>0</td>\n",
       "      <td>0</td>\n",
       "    </tr>\n",
       "    <tr>\n",
       "      <th>Stadium Venecia</th>\n",
       "      <td>0</td>\n",
       "      <td>0</td>\n",
       "      <td>4</td>\n",
       "      <td>6</td>\n",
       "      <td>2</td>\n",
       "      <td>3</td>\n",
       "      <td>0</td>\n",
       "      <td>0</td>\n",
       "    </tr>\n",
       "  </tbody>\n",
       "</table>\n",
       "</div>"
      ],
      "text/plain": [
       "M_F                 F            M         \n",
       "Anyo_nac           10 11  12 13 10 11 12 13\n",
       "Club                                       \n",
       "C.N. Helios         0  0   0  4  6  7  0  0\n",
       "C.N. Iz Cuarte      0  0   0  0  1  0  0  0\n",
       "C.N. Teruel         0  0   0  0  1  0  0  0\n",
       "E.M. El Olivar      0  0  11  6  8  7  0  0\n",
       "H2ogo C.N.          0  0   0  2  1  3  0  0\n",
       "P. San Agustin      0  0   8  2  4  1  0  0\n",
       "Stadium Casablanca  0  0   2  0  2  2  0  0\n",
       "Stadium Venecia     0  0   4  6  2  3  0  0"
      ]
     },
     "execution_count": 4,
     "metadata": {},
     "output_type": "execute_result"
    }
   ],
   "source": [
    "# Resumen de datos\n",
    "\n",
    "df=pd.read_csv('competicion_'+competicion+'.csv')\n",
    "\n",
    "#df.pivot_table(df, values = 'Nombre',index='M_F', columns=['Club','Anyo_nac'], aggfunc=lambda x: len(x.unique()))\n",
    "df.pivot_table(values = 'Nombre', columns='M_F', index=['Club','Anyo_nac'], aggfunc=lambda x: len(x.unique())).unstack().fillna(0).astype(int)"
   ]
  },
  {
   "cell_type": "markdown",
   "id": "ad419273",
   "metadata": {},
   "source": [
    "Por último, añadimos todas las competiciones al archivo *base_datos.csv*:"
   ]
  },
  {
   "cell_type": "code",
   "execution_count": 5,
   "id": "40fda0da",
   "metadata": {},
   "outputs": [
    {
     "data": {
      "text/plain": [
       "['competicion_Benjamín, jornada 1.csv']"
      ]
     },
     "execution_count": 5,
     "metadata": {},
     "output_type": "execute_result"
    }
   ],
   "source": [
    "# Actualizamos la base de datos\n",
    "\n",
    "import glob\n",
    "\n",
    "# Buscamos todos los ficheros csv correspondientes a competiciones los concatenamos y los grabamos en base de datos\n",
    "\n",
    "lista_competiciones = glob.glob('competicion*.csv')\n",
    "df=pd.concat([pd.read_csv(comp) for comp in lista_competiciones])\n",
    "df.to_csv('base_datos.csv', index=False)\n",
    "lista_competiciones"
   ]
  }
 ],
 "metadata": {
  "kernelspec": {
   "display_name": "Python 3",
   "language": "python",
   "name": "python3"
  },
  "language_info": {
   "codemirror_mode": {
    "name": "ipython",
    "version": 3
   },
   "file_extension": ".py",
   "mimetype": "text/x-python",
   "name": "python",
   "nbconvert_exporter": "python",
   "pygments_lexer": "ipython3",
   "version": "3.6.13"
  }
 },
 "nbformat": 4,
 "nbformat_minor": 5
}
