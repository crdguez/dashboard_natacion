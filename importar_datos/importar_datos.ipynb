{
 "cells": [
  {
   "cell_type": "markdown",
   "id": "cddf0c97",
   "metadata": {},
   "source": [
    "Importamos las librerías:"
   ]
  },
  {
   "cell_type": "code",
   "execution_count": 1,
   "id": "6a048b40",
   "metadata": {},
   "outputs": [],
   "source": [
    "#Importamos librerias\n",
    "\n",
    "import camelot\n",
    "import pandas as pd\n",
    "import datetime\n",
    "from funciones import tabla_a_datos, campos_calculados\n",
    "import glob"
   ]
  },
  {
   "cell_type": "markdown",
   "id": "4b40b3e2",
   "metadata": {},
   "source": [
    "Con *camelot* leemos el pdf que le digamos y extraemos las tablas en bruto:"
   ]
  },
  {
   "cell_type": "code",
   "execution_count": null,
   "id": "c8315fa3",
   "metadata": {},
   "outputs": [],
   "source": [
    "## Datos a importar\n",
    "\n",
    "file = 'NATACION_BENJAMIN_2_RESULTADOS_2122.pdf'\n",
    "tablas = camelot.read_pdf(file, pages='all', flavor='stream', split_text='\\n')\n",
    "tablas.n"
   ]
  },
  {
   "cell_type": "markdown",
   "id": "8d326090",
   "metadata": {},
   "source": [
    "Modificamos las tablas para que tengan el formato que nos interese:"
   ]
  },
  {
   "cell_type": "code",
   "execution_count": null,
   "id": "cffc4b90",
   "metadata": {},
   "outputs": [],
   "source": [
    "# Nos falta esta tabla\n",
    "\n",
    "# tabla_perdida=pd.read_csv('tabla_perdida.csv',dtype=str).T.reset_index(drop=True).T\n",
    "# dic=tabla_perdida.to_dict()\n",
    "dic= {0: {0: '1.',\n",
    "  1: '2.',\n",
    "  2: '3.',\n",
    "  3: '4.',\n",
    "  4: '5.',\n",
    "  5: '6.',\n",
    "  6: '7.',\n",
    "  7: '8.',\n",
    "  8: '9.',\n",
    "  9: '10.',\n",
    "  10: '11.',\n",
    "  11: '12.',\n",
    "  12: '13.',\n",
    "  13: '14.',\n",
    "  14: '15.',\n",
    "  15: '16.',\n",
    "  16: '17.'},\n",
    " 1: {0: 'ESCORIHUELA AZNAR, Claudia',\n",
    "  1: 'RODRIGUEZ SOLANAS, Ines',\n",
    "  2: 'MALON CANTIN, Sofia',\n",
    "  3: 'MARTIN SORIA, Claudia',\n",
    "  4: 'LEAL PELEGRIN, Julieta',\n",
    "  5: 'MALO SANCHEZ, Paula',\n",
    "  6: 'DEL BARRIO MIGUEL, Vera',\n",
    "  7: 'GAINSINSKY CASTILLO, Michelle',\n",
    "  8: 'RODRIGO LORENTE, Claudia',\n",
    "  9: 'MARTINEZ MARQUES, Aimar Teresa',\n",
    "  10: 'GALAY TORRIJO, Celia',\n",
    "  11: 'REMACHA ROYO, Itziar',\n",
    "  12: 'MARIN PELEGRIN, Julia',\n",
    "  13: 'SALUEÑA LUCHA, Vera',\n",
    "  14: 'MATA AGUELA, Candela',\n",
    "  15: 'GARCIA RODRIGUEZ, Aroa',\n",
    "  16: 'MARIN PELEGRIN, Sara'},\n",
    " 2: {0: '13',\n",
    "  1: '13',\n",
    "  2: '13',\n",
    "  3: '13',\n",
    "  4: '13',\n",
    "  5: '13',\n",
    "  6: '13',\n",
    "  7: '13',\n",
    "  8: '13',\n",
    "  9: '13',\n",
    "  10: '13',\n",
    "  11: '13',\n",
    "  12: '13',\n",
    "  13: '13',\n",
    "  14: '13',\n",
    "  15: '13',\n",
    "  16: '13'},\n",
    " 3: {0: 'E.M. El Olivar',\n",
    "  1: 'E.M. El Olivar',\n",
    "  2: 'C.N. Helios',\n",
    "  3: 'Stadium Venecia',\n",
    "  4: 'E.M. El Olivar',\n",
    "  5: 'C.N. Helios',\n",
    "  6: 'Stadium Venecia',\n",
    "  7: 'C.N. Helios',\n",
    "  8: 'Stadium Venecia',\n",
    "  9: 'Stadium Venecia',\n",
    "  10: 'Stadium Venecia',\n",
    "  11: 'E.M. El Olivar',\n",
    "  12: 'H2ogo C.N.',\n",
    "  13: 'C.N. Helios',\n",
    "  14: 'E.M. El Olivar',\n",
    "  15: 'C.N. Helios',\n",
    "  16: 'H2ogo C.N.'},\n",
    " 4: {0: '57.18',\n",
    "  1: '58.00',\n",
    "  2: '58.79',\n",
    "  3: '59.36',\n",
    "  4: '1:01.84',\n",
    "  5: '1:02.34',\n",
    "  6: '1:03.43',\n",
    "  7: '1:05.56',\n",
    "  8: '1:06.12',\n",
    "  9: '1:06.86',\n",
    "  10: '1:08.94',\n",
    "  11: '1:09.78',\n",
    "  12: '1:11.98',\n",
    "  13: '1:14.11',\n",
    "  14: '1:17.29',\n",
    "  15: '1:17.44',\n",
    "  16: '1:17.78'},\n",
    " 5: {0: '124',\n",
    "  1: '119',\n",
    "  2: '114',\n",
    "  3: '111',\n",
    "  4: '98',\n",
    "  5: '96',\n",
    "  6: '91',\n",
    "  7: '82',\n",
    "  8: '80',\n",
    "  9: '77',\n",
    "  10: '71',\n",
    "  11: '68',\n",
    "  12: '62',\n",
    "  13: '57',\n",
    "  14: '50',\n",
    "  15: '50',\n",
    "  16: '49'}}\n",
    "\n",
    "tabla_perdida=pd.DataFrame(dic)\n"
   ]
  },
  {
   "cell_type": "code",
   "execution_count": null,
   "id": "796f00f5",
   "metadata": {},
   "outputs": [],
   "source": [
    "# La tabla 8 hay que modificarla\n",
    "tablas2 = camelot.read_pdf(file, pages='5', flavor='stream', split_text='')\n",
    "df = tablas2[1].df\n",
    "df2=df[df[10]!=''].iloc[3:]\n",
    "# Mosteo aparece mal\n",
    "df2.iloc[6][[0,1]]=df2.iloc[6][1][:df2.iloc[6][1].find('.')+1],df2.iloc[6][1][df2.iloc[6][1].find('.')+2:]\n",
    "# Casblanca mal\n",
    "df2.iloc[2][6]=df2.iloc[2][7]\n",
    "tabla8=df2[[0,1,5,6,9,10]].T.reset_index(drop=True).T"
   ]
  },
  {
   "cell_type": "code",
   "execution_count": null,
   "id": "8317cd68",
   "metadata": {},
   "outputs": [],
   "source": [
    "tabla9=tablas[9].df[tablas[9].df[6]!=''][[0,1,2,3,5,6]].T.reset_index(drop=True).T\n",
    "tabla9.iloc[3][1]=tabla9.iloc[3][1]+tabla9.iloc[3][2].split('\\n')[0]\n",
    "tabla9.iloc[3][2]=tabla9.iloc[3][2].split('\\n')[1]"
   ]
  },
  {
   "cell_type": "code",
   "execution_count": null,
   "id": "d08de950",
   "metadata": {},
   "outputs": [],
   "source": [
    "tabla10=tablas[10].df[tablas[10].df[5]!='']\n",
    "tabla10=tabla10.append(pd.Series(['10.','MARTINEZ MARQUES, Aimar Teresa','13','Stadium Venecia', '1:56.00','81'], index=tabla10.columns),ignore_index=True)\n",
    "tabla10=tabla10.append(pd.Series(['11.','SALUEÑA LUCHA, Vera','13','C.N. Helios', '2:01.09','71'], index=tabla10.columns),ignore_index=True)\n",
    "tabla10=tabla10.append(pd.Series(['12.','GALAY TORRIJO, Celia','13','Stadium Venecia', '2:02.31','69'], index=tabla10.columns),ignore_index=True)"
   ]
  },
  {
   "cell_type": "code",
   "execution_count": null,
   "id": "84d1e93d",
   "metadata": {},
   "outputs": [],
   "source": [
    "# Liga Benjamin\n",
    "\n",
    "competicion = 'Benjamín, jornada 2'\n",
    "lugar = 'St. Casablanca'\n",
    "fecha = datetime.datetime(2021,12,19)\n",
    "\n",
    "\n",
    "# Modifico tabla 4, que hay un error en ella\n",
    "# df4=tablas[4].df.copy()\n",
    "# df4[1][3]=df4[1][3]+'a'\n",
    "# df4[2][3]=df4[2][3].split('\\n')[1]\n",
    "\n",
    "\n",
    "lista_df=[\n",
    "tabla_a_datos(tablas[0].df, fila_datos = 1, fecha=fecha, prueba='50m Braza', m_f='M', tipo=1, competicion=competicion, lugar= lugar),\n",
    "tabla_a_datos(tablas[1].df, fila_datos = 1, fecha=fecha, prueba='100m Braza', m_f='M', tipo=2, competicion=competicion, lugar= lugar),\n",
    "tabla_a_datos(tablas[2].df, fila_datos = 1, fecha=fecha, prueba='100m Braza', m_f='M', tipo=2, competicion=competicion, lugar= lugar),\n",
    "tabla_a_datos(tabla_perdida, fila_datos = 0, fecha=fecha, prueba='50m Braza', m_f='F', tipo=1, competicion=competicion, lugar= lugar),\n",
    "tabla_a_datos(tablas[3].df, fila_datos = 1, fecha=fecha, prueba='50m Braza', m_f='F', tipo=1, competicion=competicion, lugar= lugar),\n",
    "tabla_a_datos(tablas[4].df, fila_datos = 1, fecha=fecha, prueba='100m Braza', m_f='F', tipo=1, competicion=competicion, lugar= lugar),\n",
    "tabla_a_datos(tablas[5].df, fila_datos = 1, fecha=fecha, prueba='100m Braza', m_f='F', tipo=1, competicion=competicion, lugar= lugar),\n",
    "tabla_a_datos(tablas[6].df, fila_datos = 1, fecha=fecha, prueba='100m Libre', m_f='M', tipo=2, competicion=competicion, lugar= lugar),\n",
    "tabla_a_datos(tablas[7].df, fila_datos = 1, fecha=fecha, prueba='100m Libre', m_f='M', tipo=1, competicion=competicion, lugar= lugar),\n",
    "tabla_a_datos(tabla8, fila_datos = 0, fecha=fecha, prueba='200m Libre', m_f='M', tipo=1, competicion=competicion, lugar= lugar),\n",
    "tabla_a_datos(tabla9, fila_datos = 1, fecha=fecha, prueba='200m Libre', m_f='M', tipo=1, competicion=competicion, lugar= lugar),\n",
    "tabla_a_datos(tabla10, fila_datos = 1, fecha=fecha, prueba='100m Libre', m_f='F', tipo=1, competicion=competicion, lugar= lugar),\n",
    "tabla_a_datos(tablas[11].df, fila_datos = 1, fecha=fecha, prueba='100m Libre', m_f='F', tipo=1, competicion=competicion, lugar= lugar),\n",
    "tabla_a_datos(tablas[12].df[tablas[12].df[6]!=''][[0,1,2,3,5,6]].T.reset_index(drop=True).T, fila_datos = 1, fecha=fecha, prueba='200m Libre', m_f='F', tipo=1, competicion=competicion, lugar= lugar),\n",
    "tabla_a_datos(tablas[13].df[tablas[13].df[6]!=''][[0,1,2,3,5,6]].T.reset_index(drop=True).T, fila_datos = 1, fecha=fecha, prueba='200m Libre', m_f='F', tipo=1, competicion=competicion, lugar= lugar),\n",
    "\n",
    "]\n",
    "\n",
    "for d in lista_df :\n",
    "    display(d)\n",
    "    \n",
    "    \n",
    "campos_calculados(pd.concat(lista_df)).to_csv('competicion_'+competicion+'.csv', index=False)"
   ]
  },
  {
   "cell_type": "markdown",
   "id": "35b25378",
   "metadata": {},
   "source": [
    "Hacemos un resumen de los datos contando el número de nadadores por club:"
   ]
  },
  {
   "cell_type": "code",
   "execution_count": null,
   "id": "5e7b4fcc",
   "metadata": {},
   "outputs": [],
   "source": [
    "# Resumen de datos\n",
    "\n",
    "df=pd.read_csv('competicion_'+competicion+'.csv')\n",
    "\n",
    "#df.pivot_table(df, values = 'Nombre',index='M_F', columns=['Club','Anyo_nac'], aggfunc=lambda x: len(x.unique()))\n",
    "df.pivot_table(values = 'Nombre', columns='M_F', index=['Club','Anyo_nac'], aggfunc=lambda x: len(x.unique())).unstack().fillna(0).astype(int)"
   ]
  },
  {
   "cell_type": "markdown",
   "id": "a9e4c33f",
   "metadata": {},
   "source": [
    "Por último, añadimos todas las competiciones al archivo *base_datos.csv*:"
   ]
  },
  {
   "cell_type": "code",
   "execution_count": null,
   "id": "3e5c32de",
   "metadata": {},
   "outputs": [],
   "source": [
    "# Actualizamos la base de datos\n",
    "\n",
    "import glob\n",
    "\n",
    "# Buscamos todos los ficheros csv correspondientes a competiciones los concatenamos y los grabamos en base de datos\n",
    "\n",
    "lista_competiciones = glob.glob('competicion*.csv')\n",
    "df=pd.concat([pd.read_csv(comp) for comp in lista_competiciones])\n",
    "df.to_csv('base_datos.csv', index=False)\n",
    "lista_competiciones"
   ]
  }
 ],
 "metadata": {
  "kernelspec": {
   "display_name": "Python 3",
   "language": "python",
   "name": "python3"
  },
  "language_info": {
   "codemirror_mode": {
    "name": "ipython",
    "version": 3
   },
   "file_extension": ".py",
   "mimetype": "text/x-python",
   "name": "python",
   "nbconvert_exporter": "python",
   "pygments_lexer": "ipython3",
   "version": "3.6.13"
  }
 },
 "nbformat": 4,
 "nbformat_minor": 5
}
